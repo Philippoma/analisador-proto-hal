{
 "cells": [
  {
   "cell_type": "code",
   "execution_count": null,
   "id": "2fd3bdc0",
   "metadata": {},
   "outputs": [],
   "source": [
    "# Instalação de bibliotecas\n",
    "!pip install protobuf pandas openpyxl matplotlib\n",
    "!apt-get install -y lsof protobuf-compiler"
   ]
  },
  {
   "cell_type": "code",
   "execution_count": null,
   "id": "592ab5c9",
   "metadata": {},
   "outputs": [],
   "source": [
    "# Interface para upload e seleção de arquivos via widgets\n",
    "import ipywidgets as widgets\n",
    "from google.colab import files\n",
    "from IPython.display import display\n",
    "\n",
    "print('Clique abaixo para enviar os arquivos .proto, .pb, .txt (HALs) e .desc, se houver:')\n",
    "uploaded = files.upload()\n",
    "\n",
    "arquivo_paths = list(uploaded.keys())\n",
    "multi_select = widgets.SelectMultiple(\n",
    "    options=arquivo_paths,\n",
    "    description='Selecionar:',\n",
    "    rows=10,\n",
    "    layout=widgets.Layout(width='90%')\n",
    ")\n",
    "display(multi_select)"
   ]
  },
  {
   "cell_type": "code",
   "execution_count": null,
   "id": "28c117a9",
   "metadata": {},
   "outputs": [],
   "source": [
    "# Compilação dos arquivos .proto para módulos Python\n",
    "import os\n",
    "for nome in arquivo_paths:\n",
    "    if nome.endswith('.proto'):\n",
    "        os.system(f\"protoc --python_out=. {nome}\")\n",
    "        print(f\"Compilado: {nome}\")"
   ]
  },
  {
   "cell_type": "code",
   "execution_count": null,
   "id": "975a3efc",
   "metadata": {},
   "outputs": [],
   "source": [
    "# Leitura de arquivos .pb com base no módulo compilado\n",
    "import importlib.util\n",
    "\n",
    "# Substitua 'YourMessage' pelo nome real da mensagem do seu .proto\n",
    "for nome in arquivo_paths:\n",
    "    if nome.endswith('_pb2.py'):\n",
    "        spec = importlib.util.spec_from_file_location(\"pb_module\", nome)\n",
    "        pb_module = importlib.util.module_from_spec(spec)\n",
    "        spec.loader.exec_module(pb_module)\n",
    "        for pb_file in arquivo_paths:\n",
    "            if pb_file.endswith('.pb'):\n",
    "                with open(pb_file, 'rb') as f:\n",
    "                    try:\n",
    "                        mensagem = pb_module.YourMessage()\n",
    "                        mensagem.ParseFromString(f.read())\n",
    "                        print(f\"{pb_file}: OK\\n{mensagem}\")\n",
    "                    except Exception as e:\n",
    "                        print(f\"Erro ao ler {pb_file}: {e}\")"
   ]
  },
  {
   "cell_type": "code",
   "execution_count": null,
   "id": "c9607d9a",
   "metadata": {},
   "outputs": [],
   "source": [
    "# Análise de arquivos HAL e exportação de status\n",
    "import pandas as pd\n",
    "import matplotlib.pyplot as plt\n",
    "\n",
    "resultados = []\n",
    "for nome in arquivo_paths:\n",
    "    if nome.endswith('.txt'):\n",
    "        with open(nome, 'r', encoding='utf-8', errors='ignore') as f:\n",
    "            conteudo = f.read()\n",
    "            status = 'OK'\n",
    "            if 'failed' in conteudo.lower() or 'exit code' in conteudo.lower():\n",
    "                status = 'Falha detectada'\n",
    "            resultados.append({\"Arquivo\": nome, \"Status\": status})\n",
    "\n",
    "df = pd.DataFrame(resultados)\n",
    "df.to_excel('resultado_HALs_lote.xlsx', index=False)\n",
    "df"
   ]
  },
  {
   "cell_type": "code",
   "execution_count": null,
   "id": "b7a673a7",
   "metadata": {},
   "outputs": [],
   "source": [
    "# Visualização gráfica das falhas HAL\n",
    "status_counts = df['Status'].value_counts()\n",
    "plt.figure(figsize=(6, 4))\n",
    "status_counts.plot(kind='bar', color=['green', 'red'])\n",
    "plt.title('Resumo de Falhas HAL por Lote')\n",
    "plt.xlabel('Status')\n",
    "plt.ylabel('Quantidade de Arquivos')\n",
    "plt.grid(True, linestyle='--', alpha=0.5)\n",
    "plt.tight_layout()\n",
    "plt.show()"
   ]
  }
 ],
 "metadata": {},
 "nbformat": 4,
 "nbformat_minor": 5
}